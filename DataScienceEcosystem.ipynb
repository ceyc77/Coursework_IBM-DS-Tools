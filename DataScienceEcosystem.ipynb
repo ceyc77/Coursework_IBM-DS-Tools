{
 "cells": [
  {
   "cell_type": "markdown",
   "id": "3a8a712c",
   "metadata": {},
   "source": [
    "# Data Science Tools and Ecosystem"
   ]
  },
  {
   "cell_type": "markdown",
   "id": "f45df2b7",
   "metadata": {},
   "source": [
    "In this notebook, Data Science Tools and Ecosystem are summarized."
   ]
  },
  {
   "cell_type": "markdown",
   "id": "14db1cae",
   "metadata": {},
   "source": [
    "Some of the popular languages that Data Scientists use are:\n",
    "\n",
    "1. Python\n",
    "2. R\n",
    "3. SQL\n",
    "4. Scala\n",
    "5. Java\n",
    "6. C++\n",
    "7. Julia\n",
    "8. JavaScript\n",
    "9. PHP\n",
    "10. Go\n",
    "11. Ruby\n",
    "12. Visual Basic\n",
    "\n",
    "_Source: IBM Course \"Tools for Data Science\" course, Module 2, video \"Languages of Data Science\"_"
   ]
  },
    {
   "cell_type": "markdown",
   "id": "a5d0b76c",
   "metadata": {},
   "source": [
    "Some of the commonly used libraries used by Data Scientists include:\n",
    "\n",
    "1. Pandas\n",
    "2. NumPy\n",
    "3. Matplotlib\n",
    "4. Seaborn\n",
    "5. Scikit-learn\n",
    "6. SciPy\n",
    "7. Keras\n",
    "8. TensorFlow\n",
    "9. Pytorch\n",
    "10. Spark\n",
    "11. Vegas\n",
    "12. ggplot2\n",
    "\n",
    "_Source: IBM Course \"Tools for Data Science\" course, Module 3, video \"Libraries for Data Science\"_"
   ]
  },
  {
   "cell_type": "markdown",
   "id": "353f57c0",
   "metadata": {},
   "source": [
    "|Data Science Tools|\n",
    "|------------------|\n",
    "|Jupyter|\n",
    "|RStudio|\n",
    "|Spyder|\n",
    "\n",
    "_Source: IBM Course \"Tools for Data Science\" course, Module 1, video \"Open Source Tools for Data Science - Part 2\"_"
   ]
  },
  {
   "cell_type": "markdown",
   "id": "e0e1adab",
   "metadata": {},
   "source": [
    "### Below are a few examples of evaluating arithmetic expressions in Python:"
   ]
  },
  {
   "cell_type": "code",
   "execution_count": 4,
   "id": "89e9baff",
   "metadata": {},
   "outputs": [
    {
     "data": {
      "text/plain": [
       "17"
      ]
     },
     "execution_count": 4,
     "metadata": {},
     "output_type": "execute_result"
    }
   ],
   "source": [
    "#This a simple arithmetic expression to mutiply then add integers\n",
    "(3*4)+5"
   ]
  },
  {
   "cell_type": "code",
   "execution_count": 8,
   "id": "b7a1318a",
   "metadata": {},
   "outputs": [
    {
     "name": "stdout",
     "output_type": "stream",
     "text": [
      "200  minutes =  3.3333333333333335  hours\n"
     ]
    }
   ],
   "source": [
    "#This will convert 200 minutes to hours by diving by 60\n",
    "\n",
    "minutes = 200\n",
    "hours = minutes / 60\n",
    "print(minutes, \" minutes = \", hours, \" hours\")"
   ]
  },
  {
   "cell_type": "markdown",
   "id": "747d86e9",
   "metadata": {},
   "source": [
    "__Objectives:__\n",
    "- Demonstrate some knowledge of course material on data science tools\n",
    "- Use a popular data science tool (Jupyter Notebook)\n",
    "- Practice markdown, to include writing headers, bold text, and ordered and unordered lists\n",
    "- Practice simple arithmetic in Python"
   ]
  },
  {
   "cell_type": "markdown",
   "id": "c0c9c30f",
   "metadata": {},
   "source": [
    "__Author:__  _Matthew Murphy_"
   ]
  },
  {
   "cell_type": "code",
   "execution_count": null,
   "id": "1e3b8a9f",
   "metadata": {},
   "outputs": [],
   "source": []
  }
 ],
 "metadata": {
  "kernelspec": {
   "display_name": "Python 3 (ipykernel)",
   "language": "python",
   "name": "python3"
  },
  "language_info": {
   "codemirror_mode": {
    "name": "ipython",
    "version": 3
   },
   "file_extension": ".py",
   "mimetype": "text/x-python",
   "name": "python",
   "nbconvert_exporter": "python",
   "pygments_lexer": "ipython3",
   "version": "3.11.5"
  }
 },
 "nbformat": 4,
 "nbformat_minor": 5
}
